{
 "cells": [
  {
   "cell_type": "markdown",
   "metadata": {},
   "source": [
    "# Demo of Negational Symmetry of Quantum Neural Networks"
   ]
  },
  {
   "cell_type": "markdown",
   "metadata": {},
   "source": [
    "### Load packages."
   ]
  },
  {
   "cell_type": "code",
   "execution_count": 1,
   "metadata": {},
   "outputs": [],
   "source": [
    "import numpy as np\n",
    "import tensorflow as tf\n",
    "import tensorflow_quantum as tfq\n",
    "\n",
    "import models\n",
    "import utils\n",
    "\n",
    "import warnings\n",
    "warnings.filterwarnings('ignore')\n",
    "warnings.simplefilter('ignore')\n",
    "\n",
    "NUM_QUBITS = 16"
   ]
  },
  {
   "cell_type": "markdown",
   "metadata": {},
   "source": [
    "### Load MNIST data."
   ]
  },
  {
   "cell_type": "code",
   "execution_count": 10,
   "metadata": {},
   "outputs": [],
   "source": [
    "x_train, y_train, x_test, y_test = utils.get_mnist()"
   ]
  },
  {
   "cell_type": "markdown",
   "metadata": {},
   "source": [
    "## Part 1 Evaluate negational symmetry on QNNs.\n",
    "### Train QNN on original training data."
   ]
  },
  {
   "cell_type": "code",
   "execution_count": 13,
   "metadata": {},
   "outputs": [],
   "source": [
    "# Load quantum data with original test set.\n",
    "x_train_q, y_train_q, x_test_q, y_test_q = utils.prepare_quantum_data(\n",
    "    x_train, y_train, x_test, y_test,\n",
    "    num_qubits=16,\n",
    "    a=3,\n",
    "    b=6,\n",
    "    invert=False)\n",
    "\n",
    "# Train a QNN (XX-ZZ) and evaluate it. The architecture of QNN is defined\n",
    "# as a list e.g.  ['XX', 'ZZ'],  ['XX', 'ZZ', 'XX'].\n",
    "arch = ['XX', 'ZZ']\n",
    "model = models.create_qnn(num_qubits=NUM_QUBITS, arch=arch)\n",
    "\n",
    "model.fit(\n",
    "    x_train_q, y_train_q,\n",
    "    batch_size=32,\n",
    "    epochs=10,\n",
    "    verbose=1,\n",
    "    validation_data=(x_test_q, y_test_q))"
   ]
  },
  {
   "cell_type": "markdown",
   "metadata": {},
   "source": [
    "### Evaluate on the original test data"
   ]
  },
  {
   "cell_type": "code",
   "execution_count": null,
   "metadata": {},
   "outputs": [],
   "source": [
    "model.evaluate(x_test_q, y_test_q)"
   ]
  },
  {
   "cell_type": "markdown",
   "metadata": {},
   "source": [
    "### Evaluate on the negational test data."
   ]
  },
  {
   "cell_type": "code",
   "execution_count": 11,
   "metadata": {},
   "outputs": [],
   "source": [
    "# Load quantum data with negational test set.\n",
    "_, _, x_test_q_inv, y_test_q_inv = utils.prepare_quantum_data(\n",
    "    x_train, y_train, x_test, y_test,\n",
    "    num_qubits=16,\n",
    "    a=3,\n",
    "    b=6,\n",
    "    invert=True)\n",
    "\n",
    "model.evaluate(x_test_q_inv, y_test_q_inv)"
   ]
  },
  {
   "cell_type": "markdown",
   "metadata": {},
   "source": [
    "### Evaluate negational symmetry numerically.\n",
    "\n",
    "### Theorem 1 $f_{\\theta} (\\textbf{x}) = f_{\\theta} (\\tilde{\\textbf{x}})$"
   ]
  },
  {
   "cell_type": "code",
   "execution_count": 24,
   "metadata": {},
   "outputs": [
    {
     "name": "stdout",
     "output_type": "stream",
     "text": [
      "mean: -4.424096289312729e-08\n",
      "std: 1.0564935593038172e-07\n"
     ]
    }
   ],
   "source": [
    "# Here, we provide a pre-trained weights for QNN (XX-ZZ) for convenience. \n",
    "arch = ['XX', 'ZZ']\n",
    "model = models.create_qnn(num_qubits=NUM_QUBITS, arch=arch)\n",
    "weights = np.load('weights.npy')\n",
    "model.set_weights([weights])\n",
    "\n",
    "logits_ori = []\n",
    "logits_neg = []\n",
    "\n",
    "batch_size = 32\n",
    "for i in range(len(x_test_q) // batch_size + 1):\n",
    "    x_batch = x_test_q[batch_size*i:batch_size*(i+1)]\n",
    "    logits = model(x_batch, training=False)\n",
    "    logits_ori.append(logits.numpy())\n",
    "    \n",
    "    x_batch_inv = x_test_q_inv[batch_size*i:batch_size*(i+1)]\n",
    "    logits_inv = model(x_batch_inv, training=False)\n",
    "    logits_neg.append(logits_inv.numpy())\n",
    "\n",
    "logits_ori_np = np.concatenate(logits_ori, axis=0)\n",
    "logits_neg_np = np.concatenate(logits_neg, axis=0)\n",
    "\n",
    "diff = logits_ori_np - logits_neg_np\n",
    "\n",
    "print('mean: {}'.format(np.mean(diff)))\n",
    "print('std: {}'.format(np.std(diff)))"
   ]
  },
  {
   "cell_type": "markdown",
   "metadata": {},
   "source": [
    "### Theorem 2 $g_{\\theta} (\\textbf{x}) = g_{\\theta} (\\tilde{\\textbf{x}})$"
   ]
  },
  {
   "cell_type": "code",
   "execution_count": null,
   "metadata": {},
   "outputs": [],
   "source": [
    "from scipy.stats import pearsonr\n",
    "from scipy.spatial.distance import cosine\n",
    "\n",
    "models.create_qnn_feat(num_qubits=16, arch=['XX', 'ZZ'])"
   ]
  }
 ],
 "metadata": {
  "kernelspec": {
   "display_name": "Python 3",
   "language": "python",
   "name": "python3"
  },
  "language_info": {
   "codemirror_mode": {
    "name": "ipython",
    "version": 3
   },
   "file_extension": ".py",
   "mimetype": "text/x-python",
   "name": "python",
   "nbconvert_exporter": "python",
   "pygments_lexer": "ipython3",
   "version": "3.6.9"
  }
 },
 "nbformat": 4,
 "nbformat_minor": 4
}
