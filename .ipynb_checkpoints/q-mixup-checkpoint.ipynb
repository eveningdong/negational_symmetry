{
 "cells": [
  {
   "cell_type": "code",
   "execution_count": 1,
   "metadata": {},
   "outputs": [],
   "source": [
    "import os\n",
    "\n",
    "import tensorflow as tf\n",
    "import tensorflow_quantum as tfq\n",
    "\n",
    "import cirq\n",
    "import sympy\n",
    "import numpy as np\n",
    "import collections\n",
    "import time\n",
    "\n",
    "# visualization tools\n",
    "%matplotlib inline\n",
    "import matplotlib.pyplot as plt\n",
    "from cirq.contrib.svg import SVGCircuit"
   ]
  },
  {
   "cell_type": "code",
   "execution_count": 2,
   "metadata": {},
   "outputs": [],
   "source": [
    "import basic\n",
    "import models"
   ]
  },
  {
   "cell_type": "code",
   "execution_count": 18,
   "metadata": {},
   "outputs": [],
   "source": [
    "x_train_raw, y_train_raw, x_test_raw, y_test_raw = basic.get_mnist()"
   ]
  },
  {
   "cell_type": "code",
   "execution_count": 19,
   "metadata": {},
   "outputs": [
    {
     "name": "stdout",
     "output_type": "stream",
     "text": [
      "Removing ambiguous images.\n",
      "Number of unique images: 193\n",
      "Number of 3s:  125\n",
      "Number of 6s:  113\n",
      "Number of contradictory images:  45\n",
      "Initial number of examples:  12049\n",
      "Remaining non-contradictory examples:  3649\n",
      "Removing ambiguous images.\n",
      "Number of unique images: 115\n",
      "Number of 3s:  65\n",
      "Number of 6s:  72\n",
      "Number of contradictory images:  22\n",
      "Initial number of examples:  1968\n",
      "Remaining non-contradictory examples:  890\n",
      "Training examples: 3649\n",
      "Test examples: 890\n"
     ]
    }
   ],
   "source": [
    "x_train, y_train, x_test, y_test = basic.prepare_quantum_data(\n",
    "        x_train_raw, y_train_raw, x_test_raw, y_test_raw)"
   ]
  },
  {
   "cell_type": "code",
   "execution_count": 20,
   "metadata": {},
   "outputs": [
    {
     "name": "stdout",
     "output_type": "stream",
     "text": [
      "Removing ambiguous images.\n",
      "Number of unique images: 193\n",
      "Number of 3s:  125\n",
      "Number of 6s:  113\n",
      "Number of contradictory images:  45\n",
      "Initial number of examples:  12049\n",
      "Remaining non-contradictory examples:  3649\n",
      "Removing ambiguous images.\n",
      "Number of unique images: 115\n",
      "Number of 3s:  65\n",
      "Number of 6s:  72\n",
      "Number of contradictory images:  22\n",
      "Initial number of examples:  1968\n",
      "Remaining non-contradictory examples:  890\n",
      "Training examples: 3649\n",
      "Test examples: 890\n"
     ]
    }
   ],
   "source": [
    "_, _, x_test_inv, y_test_inv = basic.prepare_quantum_data(\n",
    "    x_train_raw, y_train_raw, x_test_raw, y_test_raw, invert=True)"
   ]
  },
  {
   "cell_type": "code",
   "execution_count": 4,
   "metadata": {},
   "outputs": [],
   "source": [
    "model_circuit, model_readout = models.create_quantum_model(num_qubits=16)\n",
    "model = tf.keras.Sequential([\n",
    "            tf.keras.layers.Input(shape=(), dtype=tf.string),\n",
    "            tfq.layers.PQC(model_circuit, model_readout),\n",
    "            ], name='qnn')\n",
    "\n",
    "model.load_weights(\"ckpt\")\n",
    "weights = model.weights[0].numpy()"
   ]
  },
  {
   "cell_type": "code",
   "execution_count": 24,
   "metadata": {},
   "outputs": [
    {
     "data": {
      "text/plain": [
       "<tf.Tensor: shape=(10, 1), dtype=float32, numpy=\n",
       "array([[-0.88316745],\n",
       "       [-0.6607192 ],\n",
       "       [ 0.91320926],\n",
       "       [-0.88316745],\n",
       "       [-0.6607192 ],\n",
       "       [-0.99660796],\n",
       "       [ 0.9755583 ],\n",
       "       [-0.67172486],\n",
       "       [-0.67172486],\n",
       "       [ 0.9755583 ]], dtype=float32)>"
      ]
     },
     "execution_count": 24,
     "metadata": {},
     "output_type": "execute_result"
    }
   ],
   "source": [
    "x_batch = x_test[10:20]\n",
    "\n",
    "logits = model(x_batch, training=True)\n",
    "logits"
   ]
  },
  {
   "cell_type": "code",
   "execution_count": 23,
   "metadata": {},
   "outputs": [
    {
     "data": {
      "text/plain": [
       "<tf.Tensor: shape=(10, 1), dtype=float32, numpy=\n",
       "array([[-0.88316715],\n",
       "       [-0.6607192 ],\n",
       "       [ 0.9132092 ],\n",
       "       [-0.88316715],\n",
       "       [-0.6607192 ],\n",
       "       [-0.99660796],\n",
       "       [ 0.97555846],\n",
       "       [-0.6717248 ],\n",
       "       [-0.6717248 ],\n",
       "       [ 0.97555846]], dtype=float32)>"
      ]
     },
     "execution_count": 23,
     "metadata": {},
     "output_type": "execute_result"
    }
   ],
   "source": [
    "x_batch = x_test_inv[10:20]\n",
    "\n",
    "logits = model(x_batch, training=True)\n",
    "logits"
   ]
  },
  {
   "cell_type": "code",
   "execution_count": 29,
   "metadata": {},
   "outputs": [],
   "source": [
    "res = []\n",
    "inv = []\n",
    "\n",
    "for i in range(len(x_test) // 10):\n",
    "    x_batch = x_test[10*i:10*(i+1)]\n",
    "    logits = model(x_batch, training=False)\n",
    "    res.append(logits.numpy())\n",
    "    \n",
    "    x_batch_inv = x_test_inv[10*i:10*(i+1)]\n",
    "    logits_inv = model(x_batch_inv, training=False)\n",
    "    inv.append(logits_inv.numpy())\n",
    "    "
   ]
  },
  {
   "cell_type": "code",
   "execution_count": 39,
   "metadata": {},
   "outputs": [],
   "source": [
    "res_np = np.concatenate(res, axis=0)\n",
    "inv_np = np.concatenate(inv, axis=0)\n",
    "\n",
    "diff = res_np - inv_np\n",
    "\n",
    "np.save('model_output1.npy', res_np)\n",
    "np.save('model_output2.npy', inv_np)"
   ]
  },
  {
   "cell_type": "code",
   "execution_count": 35,
   "metadata": {},
   "outputs": [
    {
     "name": "stdout",
     "output_type": "stream",
     "text": [
      "-4.4240963e-08\n",
      "1.05649356e-07\n"
     ]
    }
   ],
   "source": [
    "print(np.mean(diff))\n",
    "print(np.std(diff))"
   ]
  },
  {
   "cell_type": "code",
   "execution_count": 38,
   "metadata": {},
   "outputs": [
    {
     "data": {
      "text/plain": [
       "(890, 1)"
      ]
     },
     "execution_count": 38,
     "metadata": {},
     "output_type": "execute_result"
    }
   ],
   "source": [
    "np.save('diff.npy', diff)\n",
    "diff_test = np.load('diff.npy')\n",
    "diff_test.shape"
   ]
  },
  {
   "cell_type": "code",
   "execution_count": 36,
   "metadata": {},
   "outputs": [
    {
     "data": {
      "image/png": "[encoded data removed]",
      "text/plain": [
       "<Figure size 432x288 with 1 Axes>"
      ]
     },
     "metadata": {
      "needs_background": "light"
     },
     "output_type": "display_data"
    }
   ],
   "source": [
    "import matplotlib.pyplot as plt\n",
    "\n",
    "n, bins, patches = plt.hist(x=diff, bins='auto')"
   ]
  },
  {
   "cell_type": "code",
   "execution_count": 7,
   "metadata": {},
   "outputs": [
    {
     "name": "stdout",
     "output_type": "stream",
     "text": [
      "Removing ambiguous images.\n",
      "Number of unique images: 193\n",
      "Number of 3s:  125\n",
      "Number of 6s:  113\n",
      "Number of contradictory images:  45\n",
      "Initial number of examples:  12049\n",
      "Remaining non-contradictory examples:  3649\n",
      "Removing ambiguous images.\n",
      "Number of unique images: 115\n",
      "Number of 3s:  65\n",
      "Number of 6s:  72\n",
      "Number of contradictory images:  22\n",
      "Initial number of examples:  1968\n",
      "Remaining non-contradictory examples:  890\n",
      "Training examples: 3649\n",
      "Test examples: 890\n"
     ]
    }
   ],
   "source": [
    "x_train, y_train, x_test, y_test = basic.get_mnist()\n",
    "x_train, y_train, x_test, y_test = basic.prepare_classical_data(\n",
    "        x_train, y_train, x_test, y_test)"
   ]
  },
  {
   "cell_type": "code",
   "execution_count": null,
   "metadata": {},
   "outputs": [],
   "source": []
  },
  {
   "cell_type": "code",
   "execution_count": 14,
   "metadata": {},
   "outputs": [
    {
     "data": {
      "text/plain": [
       "array([[[0.],\n",
       "        [0.],\n",
       "        [1.],\n",
       "        [0.]],\n",
       "\n",
       "       [[0.],\n",
       "        [0.],\n",
       "        [0.],\n",
       "        [0.]],\n",
       "\n",
       "       [[0.],\n",
       "        [1.],\n",
       "        [0.],\n",
       "        [0.]],\n",
       "\n",
       "       [[0.],\n",
       "        [0.],\n",
       "        [0.],\n",
       "        [0.]]], dtype=float32)"
      ]
     },
     "execution_count": 14,
     "metadata": {},
     "output_type": "execute_result"
    }
   ],
   "source": [
    "x_train[42]"
   ]
  },
  {
   "cell_type": "code",
   "execution_count": 7,
   "metadata": {},
   "outputs": [
    {
     "data": {
      "text/plain": [
       "<tf.Tensor: shape=(2, 1), dtype=float32, numpy=\n",
       "array([[-0.03718544],\n",
       "       [ 0.02560667]], dtype=float32)>"
      ]
     },
     "execution_count": 7,
     "metadata": {},
     "output_type": "execute_result"
    }
   ],
   "source": [
    "x_batch = x_train[:2]\n",
    "\n",
    "logits = model(x_batch, training=True)\n",
    "logits"
   ]
  },
  {
   "cell_type": "code",
   "execution_count": 9,
   "metadata": {},
   "outputs": [],
   "source": [
    "weights = model.weights[0].numpy()"
   ]
  },
  {
   "cell_type": "code",
   "execution_count": 9,
   "metadata": {},
   "outputs": [
    {
     "data": {
      "text/plain": [
       "<tf.Tensor: shape=(2, 1), dtype=float32, numpy=\n",
       "array([[-0.03718544],\n",
       "       [ 0.02560667]], dtype=float32)>"
      ]
     },
     "execution_count": 9,
     "metadata": {},
     "output_type": "execute_result"
    }
   ],
   "source": [
    "x_batch = x_train[:2]\n",
    "\n",
    "logits = model(x_batch, training=True)\n",
    "logits"
   ]
  },
  {
   "cell_type": "code",
   "execution_count": 34,
   "metadata": {},
   "outputs": [
    {
     "data": {
      "text/plain": [
       "(28, 28, 28)"
      ]
     },
     "execution_count": 34,
     "metadata": {},
     "output_type": "execute_result"
    }
   ],
   "source": []
  },
  {
   "cell_type": "code",
   "execution_count": 97,
   "metadata": {},
   "outputs": [],
   "source": [
    "class CircuitLayerBuilderTest():\n",
    "    def __init__(self, data_qubits, readout):\n",
    "        self.data_qubits = data_qubits\n",
    "        self.readout = readout\n",
    "    \n",
    "    def add_layer(self, circuit, gate, prefix):\n",
    "        for i, qubit in enumerate(self.data_qubits):\n",
    "            symbol = sympy.Symbol(prefix + '-' + str(i))\n",
    "            circuit.append(gate(qubit, self.readout)**symbol)\n",
    "\n",
    "\n",
    "def get_edge(num_qubits):\n",
    "    h = int(np.sqrt(num_qubits))\n",
    "    assert h**2 == num_qubits, 'num_qubits is not a perfect square of an integer!'\n",
    "    return h\n",
    "\n",
    "\n",
    "def create_quantum_model_test(num_qubits=16):\n",
    "    \"\"\"Create a QNN model circuit and readout operation to go along with it.\"\"\"\n",
    "    h = get_edge(num_qubits)\n",
    "    data_qubits = cirq.GridQubit.rect(h, h)  # a 4x4 grid.\n",
    "    readout = cirq.GridQubit(-1, -1)         # a single qubit at [-1,-1]\n",
    "    circuit = cirq.Circuit()\n",
    "    \n",
    "    # Prepare the readout qubit.\n",
    "    circuit.append(cirq.X(readout))\n",
    "    circuit.append(cirq.H(readout))\n",
    "    \n",
    "    builder = CircuitLayerBuilderTest(\n",
    "        data_qubits = data_qubits,\n",
    "        readout=readout)\n",
    "\n",
    "    # Then add layers (experiment by adding more).\n",
    "    \n",
    "    builder.add_layer(circuit, cirq.ZZ, \"zz\")\n",
    "    builder.add_layer(circuit, cirq.XX, \"xx\")\n",
    "\n",
    "    # Finally, prepare the readout qubit.\n",
    "    circuit.append(cirq.H(readout))\n",
    "\n",
    "    return circuit, cirq.Y(readout), [cirq.Z(qubit) for qubit in data_qubits] + [cirq.X(qubit) for qubit in data_qubits] + [cirq.Y(qubit) for qubit in data_qubits]"
   ]
  },
  {
   "cell_type": "code",
   "execution_count": 98,
   "metadata": {},
   "outputs": [],
   "source": [
    "model_circuit, model_readout, model_feature = create_quantum_model_test(num_qubits=16)\n",
    "model_test = tf.keras.Sequential([\n",
    "            tf.keras.layers.Input(shape=(), dtype=tf.string),\n",
    "            tfq.layers.PQC(model_circuit, model_readout),\n",
    "            ], name='qnn_test')\n",
    "model_test.set_weights([weights])"
   ]
  },
  {
   "cell_type": "code",
   "execution_count": 99,
   "metadata": {},
   "outputs": [
    {
     "data": {
      "text/plain": [
       "<tf.Tensor: shape=(10, 1), dtype=float32, numpy=\n",
       "array([[ 0.74932086],\n",
       "       [ 0.40506843],\n",
       "       [ 0.40506843],\n",
       "       [-0.02980092],\n",
       "       [ 0.94799817],\n",
       "       [-0.37712803],\n",
       "       [ 0.74932086],\n",
       "       [-0.21521446],\n",
       "       [-0.37712803],\n",
       "       [-0.11746989]], dtype=float32)>"
      ]
     },
     "execution_count": 99,
     "metadata": {},
     "output_type": "execute_result"
    }
   ],
   "source": [
    "x_batch = x_test[:10]\n",
    "\n",
    "logits = model_test(x_batch, training=False)\n",
    "logits"
   ]
  },
  {
   "cell_type": "code",
   "execution_count": 100,
   "metadata": {},
   "outputs": [
    {
     "data": {
      "text/plain": [
       "<tf.Tensor: shape=(10, 1), dtype=float32, numpy=\n",
       "array([[-0.74932075],\n",
       "       [-0.40506852],\n",
       "       [-0.40506852],\n",
       "       [ 0.02980102],\n",
       "       [-0.94799817],\n",
       "       [ 0.37712803],\n",
       "       [-0.74932075],\n",
       "       [ 0.2152144 ],\n",
       "       [ 0.37712803],\n",
       "       [ 0.11746981]], dtype=float32)>"
      ]
     },
     "execution_count": 100,
     "metadata": {},
     "output_type": "execute_result"
    }
   ],
   "source": [
    "x_batch = x_test_inv[:10]\n",
    "\n",
    "logits = model_test(x_batch, training=False)\n",
    "logits"
   ]
  },
  {
   "cell_type": "code",
   "execution_count": 63,
   "metadata": {},
   "outputs": [
    {
     "data": {
      "text/plain": [
       "<tf.Tensor: shape=(10, 2), dtype=float32, numpy=\n",
       "array([[1., 0.],\n",
       "       [0., 1.],\n",
       "       [0., 1.],\n",
       "       [1., 0.],\n",
       "       [1., 0.],\n",
       "       [1., 0.],\n",
       "       [1., 0.],\n",
       "       [0., 1.],\n",
       "       [1., 0.],\n",
       "       [0., 1.]], dtype=float32)>"
      ]
     },
     "execution_count": 63,
     "metadata": {},
     "output_type": "execute_result"
    }
   ],
   "source": [
    "y_batch = y_test[:10]\n",
    "y_batch"
   ]
  },
  {
   "cell_type": "code",
   "execution_count": null,
   "metadata": {},
   "outputs": [],
   "source": []
  }
 ],
 "metadata": {
  "kernelspec": {
   "display_name": "Python 3",
   "language": "python",
   "name": "python3"
  },
  "language_info": {
   "codemirror_mode": {
    "name": "ipython",
    "version": 3
   },
   "file_extension": ".py",
   "mimetype": "text/x-python",
   "name": "python",
   "nbconvert_exporter": "python",
   "pygments_lexer": "ipython3",
   "version": "3.6.9"
  }
 },
 "nbformat": 4,
 "nbformat_minor": 4
}
